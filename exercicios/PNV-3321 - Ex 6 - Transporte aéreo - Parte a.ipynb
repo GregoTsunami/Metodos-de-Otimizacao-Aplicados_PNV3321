{
 "cells": [
  {
   "cell_type": "markdown",
   "metadata": {},
   "source": [
    "# Transporte aéreo"
   ]
  },
  {
   "cell_type": "code",
   "execution_count": 6,
   "metadata": {},
   "outputs": [],
   "source": [
    "import gurobipy as gp\n",
    "from gurobipy import GRB"
   ]
  },
  {
   "cell_type": "code",
   "execution_count": 7,
   "metadata": {},
   "outputs": [],
   "source": [
    "tipos = 3\n",
    "rotas = 4\n",
    "cap = [40, 60, 100]\n",
    "frota = [7, 8, 6]\n",
    "demanda = [650, 710, 610, 950]\n",
    "numViagens = [[3, 2, 2, 1], [4, 3, 3, 2], [5, 4, 4, 2]]\n",
    "custo = [[1500, 1900, 2100, 2800],[2100, 2600, 2800, 3700],[3200, 3700, 3900, 5800]]"
   ]
  },
  {
   "cell_type": "code",
   "execution_count": 17,
   "metadata": {},
   "outputs": [],
   "source": [
    "# Modelo\n",
    "m = gp.Model(\"Aereo\")\n",
    "\n",
    "# Variáveis de decisão\n",
    "x = []\n",
    "for i in range(tipos):\n",
    "    x.append([])\n",
    "    for j in range(rotas):\n",
    "        x[i].append(m.addVar(vtype=GRB.INTEGER, name =f\"x_{i}_{j}\"))\n",
    "\n",
    "y = []\n",
    "for i in range(tipos):\n",
    "    y.append([])\n",
    "    for j in range(rotas):\n",
    "        y[i].append(m.addVar(vtype=GRB.INTEGER, name =f\"y_{i}_{j}\"))\n",
    "\n",
    "# Restrições\n",
    "# Não usar mais aeronaves do que o disponível\n",
    "for i in range(tipos):    \n",
    "    expr = 0\n",
    "    for j in range(rotas):\n",
    "        expr += x[i][j]\n",
    "    m.addConstr(expr <= frota[i], f\"c01_{i}\")\n",
    "\n",
    "# Atender à demanda de cada rota\n",
    "for j in range(rotas):\n",
    "    expr = 0\n",
    "    for i in range(tipos):    \n",
    "        expr += y[i][j]*cap[i]\n",
    "    m.addConstr(expr >= 1.5*demanda[j], f\"c02_{j}\")\n",
    "\n",
    "# Restrição de vínculo\n",
    "for i in range(tipos):    \n",
    "    for j in range(rotas):\n",
    "        expr = y[i][j]-numViagens[i][j]*x[i][j]\n",
    "        m.addConstr(expr <= 0, f\"c03_{i}_{j}\")\n",
    "\n",
    "# Função objetivo\n",
    "expr = 0\n",
    "for i in range(tipos):    \n",
    "    for j in range(rotas):\n",
    "        expr += custo[i][j]*y[i][j]+0.001*x[i][j]\n",
    "        \n",
    "m.setObjective(expr, GRB.MINIMIZE)\n",
    "m.update()\n",
    "m.write(\"Modelo_TransporteAereo.lp\")\n"
   ]
  },
  {
   "cell_type": "code",
   "execution_count": 18,
   "metadata": {},
   "outputs": [
    {
     "name": "stdout",
     "output_type": "stream",
     "text": [
      "Gurobi Optimizer version 10.0.2 build v10.0.2rc0 (win64)\n",
      "\n",
      "CPU model: Intel(R) Core(TM) i7-9750H CPU @ 2.60GHz, instruction set [SSE2|AVX|AVX2]\n",
      "Thread count: 6 physical cores, 12 logical processors, using up to 12 threads\n",
      "\n",
      "Optimize a model with 19 rows, 24 columns and 48 nonzeros\n",
      "Model fingerprint: 0x7713a436\n",
      "Variable types: 0 continuous, 24 integer (0 binary)\n",
      "Coefficient statistics:\n",
      "  Matrix range     [1e+00, 1e+02]\n",
      "  Objective range  [1e-03, 6e+03]\n",
      "  Bounds range     [0e+00, 0e+00]\n",
      "  RHS range        [6e+00, 1e+03]\n",
      "Presolve removed 1 rows and 1 columns\n",
      "Presolve time: 0.00s\n",
      "Presolved: 18 rows, 23 columns, 46 nonzeros\n",
      "Variable types: 0 continuous, 23 integer (0 binary)\n",
      "\n",
      "Root relaxation: infeasible, 20 iterations, 0.00 seconds (0.00 work units)\n",
      "\n",
      "    Nodes    |    Current Node    |     Objective Bounds      |     Work\n",
      " Expl Unexpl |  Obj  Depth IntInf | Incumbent    BestBd   Gap | It/Node Time\n",
      "\n",
      "     0     0 infeasible    0               - infeasible      -     -    0s\n",
      "\n",
      "Explored 1 nodes (20 simplex iterations) in 0.03 seconds (0.00 work units)\n",
      "Thread count was 12 (of 12 available processors)\n",
      "\n",
      "Solution count 0\n",
      "\n",
      "Model is infeasible\n",
      "Best objective -, best bound -, gap -\n"
     ]
    }
   ],
   "source": [
    "m.optimize()"
   ]
  },
  {
   "cell_type": "code",
   "execution_count": 19,
   "metadata": {
    "scrolled": true
   },
   "outputs": [
    {
     "ename": "AttributeError",
     "evalue": "Unable to retrieve attribute 'x'",
     "output_type": "error",
     "traceback": [
      "\u001b[1;31m---------------------------------------------------------------------------\u001b[0m",
      "\u001b[1;31mAttributeError\u001b[0m                            Traceback (most recent call last)",
      "Cell \u001b[1;32mIn[19], line 3\u001b[0m\n\u001b[0;32m      1\u001b[0m \u001b[38;5;28;01mfor\u001b[39;00m i \u001b[38;5;129;01min\u001b[39;00m \u001b[38;5;28mrange\u001b[39m(tipos):\n\u001b[0;32m      2\u001b[0m     \u001b[38;5;28;01mfor\u001b[39;00m j \u001b[38;5;129;01min\u001b[39;00m \u001b[38;5;28mrange\u001b[39m(rotas):\n\u001b[1;32m----> 3\u001b[0m         \u001b[38;5;28mprint\u001b[39m(\u001b[38;5;124mf\u001b[39m\u001b[38;5;124m\"\u001b[39m\u001b[38;5;124mTipo \u001b[39m\u001b[38;5;132;01m{\u001b[39;00mi\u001b[38;5;241m+\u001b[39m\u001b[38;5;241m1\u001b[39m\u001b[38;5;132;01m}\u001b[39;00m\u001b[38;5;124m Rota \u001b[39m\u001b[38;5;132;01m{\u001b[39;00mj\u001b[38;5;241m+\u001b[39m\u001b[38;5;241m1\u001b[39m\u001b[38;5;132;01m}\u001b[39;00m\u001b[38;5;124m -> Quant. Alocada: \u001b[39m\u001b[38;5;132;01m{\u001b[39;00m\u001b[43mx\u001b[49m\u001b[43m[\u001b[49m\u001b[43mi\u001b[49m\u001b[43m]\u001b[49m\u001b[43m[\u001b[49m\u001b[43mj\u001b[49m\u001b[43m]\u001b[49m\u001b[38;5;241;43m.\u001b[39;49m\u001b[43mx\u001b[49m\u001b[38;5;132;01m}\u001b[39;00m\u001b[38;5;124m, Núm. Viagens: \u001b[39m\u001b[38;5;132;01m{\u001b[39;00my[i][j]\u001b[38;5;241m.\u001b[39mx\u001b[38;5;132;01m}\u001b[39;00m\u001b[38;5;124m\"\u001b[39m)\n",
      "File \u001b[1;32msrc\\gurobipy\\var.pxi:125\u001b[0m, in \u001b[0;36mgurobipy.Var.__getattr__\u001b[1;34m()\u001b[0m\n",
      "File \u001b[1;32msrc\\gurobipy\\var.pxi:153\u001b[0m, in \u001b[0;36mgurobipy.Var.getAttr\u001b[1;34m()\u001b[0m\n",
      "File \u001b[1;32msrc\\gurobipy\\attrutil.pxi:100\u001b[0m, in \u001b[0;36mgurobipy.__getattr\u001b[1;34m()\u001b[0m\n",
      "\u001b[1;31mAttributeError\u001b[0m: Unable to retrieve attribute 'x'"
     ]
    }
   ],
   "source": [
    "for i in range(tipos):\n",
    "    for j in range(rotas):\n",
    "        print(f\"Tipo {i+1} Rota {j+1} -> Quant. Alocada: {x[i][j].x}, Núm. Viagens: {y[i][j].x}\")\n"
   ]
  },
  {
   "cell_type": "markdown",
   "metadata": {},
   "source": [
    "Tipo 1 Rota 1 -> Quant. Alocada: 6.0, Núm. Viagens: 4.0\n",
    "Tipo 1 Rota 2 -> Quant. Alocada: 0.0, Núm. Viagens: -0.0\n",
    "Tipo 1 Rota 3 -> Quant. Alocada: 0.0, Núm. Viagens: -0.0\n",
    "Tipo 1 Rota 4 -> Quant. Alocada: 1.0, Núm. Viagens: 1.0\n",
    "Tipo 2 Rota 1 -> Quant. Alocada: 0.0, Núm. Viagens: -0.0\n",
    "Tipo 2 Rota 2 -> Quant. Alocada: 1.0, Núm. Viagens: 2.0\n",
    "Tipo 2 Rota 3 -> Quant. Alocada: 1.0, Núm. Viagens: 2.0\n",
    "Tipo 2 Rota 4 -> Quant. Alocada: 6.0, Núm. Viagens: 12.0\n",
    "Tipo 3 Rota 1 -> Quant. Alocada: 1.0, Núm. Viagens: 5.0\n",
    "Tipo 3 Rota 2 -> Quant. Alocada: 2.0, Núm. Viagens: 6.0\n",
    "Tipo 3 Rota 3 -> Quant. Alocada: 2.0, Núm. Viagens: 5.0\n",
    "Tipo 3 Rota 4 -> Quant. Alocada: 1.0, Núm. Viagens: 2.0"
   ]
  }
 ],
 "metadata": {
  "kernelspec": {
   "display_name": "Python 3 (ipykernel)",
   "language": "python",
   "name": "python3"
  },
  "language_info": {
   "codemirror_mode": {
    "name": "ipython",
    "version": 3
   },
   "file_extension": ".py",
   "mimetype": "text/x-python",
   "name": "python",
   "nbconvert_exporter": "python",
   "pygments_lexer": "ipython3",
   "version": "3.11.4"
  }
 },
 "nbformat": 4,
 "nbformat_minor": 4
}
