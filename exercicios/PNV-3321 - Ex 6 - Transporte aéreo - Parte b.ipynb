{
 "cells": [
  {
   "cell_type": "markdown",
   "metadata": {},
   "source": [
    "# Transporte aéreo - parte b"
   ]
  },
  {
   "cell_type": "code",
   "execution_count": 7,
   "metadata": {},
   "outputs": [],
   "source": [
    "import gurobipy as gp\n",
    "from gurobipy import GRB"
   ]
  },
  {
   "cell_type": "code",
   "execution_count": 8,
   "metadata": {},
   "outputs": [],
   "source": [
    "tipos = 3\n",
    "rotas = 4\n",
    "cap = [40, 60, 100]\n",
    "frota = [7, 8, 6]\n",
    "#demanda = [650, 710, 610, 950]\n",
    "demanda = [990, 1080, 930, 1440]\n",
    "numViagens = [[3, 2, 2, 1], [4, 3, 3, 2], [5, 4, 4, 2]]\n",
    "custo = [[1500, 1900, 2100, 2800],[2100, 2600, 2800, 3700],[3200, 3700, 3900, 5800]]\n",
    "penalidade = [2500, 3000, 3500, 6000]"
   ]
  },
  {
   "cell_type": "code",
   "execution_count": 13,
   "metadata": {},
   "outputs": [],
   "source": [
    "# Modelo\n",
    "m = gp.Model(\"Aereo\")\n",
    "\n",
    "# Variáveis de decisão\n",
    "x = []\n",
    "for i in range(tipos):\n",
    "    x.append([])\n",
    "    for j in range(rotas):\n",
    "        x[i].append(m.addVar(vtype=GRB.INTEGER, obj=0.0, name =f\"x_{i}_{j}\"))\n",
    "\n",
    "y = []\n",
    "for i in range(tipos):\n",
    "    y.append([])\n",
    "    for j in range(rotas):\n",
    "        y[i].append(m.addVar(vtype=GRB.INTEGER, name =f\"y_{i}_{j}\"))\n",
    "\n",
    "z = []\n",
    "for j in range(rotas):\n",
    "    z.append(m.addVar(vtype=GRB.INTEGER, name =f\"z_{j}\"))\n",
    "\n",
    "# Restrições\n",
    "# Não usar mais aeronaves do que o disponível\n",
    "for i in range(tipos):    \n",
    "    expr = 0\n",
    "    for j in range(rotas):\n",
    "        expr += x[i][j]\n",
    "    m.addConstr(expr <= frota[i], f\"c01_{i}\")\n",
    "\n",
    "# Atender à demanda de cada rota\n",
    "for j in range(rotas):\n",
    "    expr = z[j]\n",
    "    for i in range(tipos):    \n",
    "        expr += y[i][j]*cap[i]\n",
    "    m.addConstr(expr >= demanda[j], f\"c02_{j}\")\n",
    "\n",
    "# Restrição de vínculo\n",
    "for i in range(tipos):    \n",
    "    for j in range(rotas):\n",
    "        expr = y[i][j]-numViagens[i][j]*x[i][j]\n",
    "        m.addConstr(expr <= 0, f\"c03_{i}_{j}\")\n",
    "\n",
    "# Função objetivo\n",
    "expr = 0\n",
    "for i in range(tipos):    \n",
    "    for j in range(rotas):\n",
    "        expr += custo[i][j]*y[i][j]\n",
    "for j in range(rotas):\n",
    "    expr += penalidade[j]*z[j]*0\n",
    "\n",
    "m.setObjective(expr, GRB.MINIMIZE)\n",
    "m.update()\n",
    "m.write(\"Modelo_TransporteAereo_b.lp\")\n"
   ]
  },
  {
   "cell_type": "code",
   "execution_count": 14,
   "metadata": {},
   "outputs": [
    {
     "name": "stdout",
     "output_type": "stream",
     "text": [
      "Gurobi Optimizer version 10.0.2 build v10.0.2rc0 (win64)\n",
      "\n",
      "CPU model: Intel(R) Core(TM) i7-9750H CPU @ 2.60GHz, instruction set [SSE2|AVX|AVX2]\n",
      "Thread count: 6 physical cores, 12 logical processors, using up to 12 threads\n",
      "\n",
      "Optimize a model with 19 rows, 28 columns and 52 nonzeros\n",
      "Model fingerprint: 0xf1e0b77d\n",
      "Variable types: 0 continuous, 28 integer (0 binary)\n",
      "Coefficient statistics:\n",
      "  Matrix range     [1e+00, 1e+02]\n",
      "  Objective range  [2e+03, 6e+03]\n",
      "  Bounds range     [0e+00, 0e+00]\n",
      "  RHS range        [6e+00, 1e+03]\n",
      "Found heuristic solution: objective 0.0000000\n",
      "\n",
      "Explored 0 nodes (0 simplex iterations) in 0.02 seconds (0.00 work units)\n",
      "Thread count was 1 (of 12 available processors)\n",
      "\n",
      "Solution count 1: 0 \n",
      "\n",
      "Optimal solution found (tolerance 1.00e-04)\n",
      "Best objective 0.000000000000e+00, best bound 0.000000000000e+00, gap 0.0000%\n"
     ]
    }
   ],
   "source": [
    "m.optimize()"
   ]
  },
  {
   "cell_type": "code",
   "execution_count": 11,
   "metadata": {},
   "outputs": [
    {
     "name": "stdout",
     "output_type": "stream",
     "text": [
      "Rota 0 -> Demanda Não Atendida: 150.0\n",
      "Rota 1 -> Demanda Não Atendida: 280.0\n",
      "Rota 2 -> Demanda Não Atendida: 130.0\n",
      "Rota 3 -> Demanda Não Atendida: 80.0\n"
     ]
    }
   ],
   "source": [
    "for j in range(rotas):\n",
    "    print(f\"Rota {j} -> Demanda Não Atendida: {z[j].x}\")\n"
   ]
  },
  {
   "cell_type": "code",
   "execution_count": 12,
   "metadata": {
    "scrolled": true
   },
   "outputs": [
    {
     "name": "stdout",
     "output_type": "stream",
     "text": [
      "Tipo 0 Rota 0 -> Quant. Alocada: 7.0, Núm. Viagens: 21.0\n",
      "Tipo 0 Rota 1 -> Quant. Alocada: -0.0, Núm. Viagens: 0.0\n",
      "Tipo 0 Rota 2 -> Quant. Alocada: -0.0, Núm. Viagens: 0.0\n",
      "Tipo 0 Rota 3 -> Quant. Alocada: -0.0, Núm. Viagens: -0.0\n",
      "Tipo 1 Rota 0 -> Quant. Alocada: 0.0, Núm. Viagens: -0.0\n",
      "Tipo 1 Rota 1 -> Quant. Alocada: -0.0, Núm. Viagens: 0.0\n",
      "Tipo 1 Rota 2 -> Quant. Alocada: 0.0, Núm. Viagens: 0.0\n",
      "Tipo 1 Rota 3 -> Quant. Alocada: 8.0, Núm. Viagens: 16.0\n",
      "Tipo 2 Rota 0 -> Quant. Alocada: 0.0, Núm. Viagens: 0.0\n",
      "Tipo 2 Rota 1 -> Quant. Alocada: 2.0, Núm. Viagens: 8.0\n",
      "Tipo 2 Rota 2 -> Quant. Alocada: 2.0, Núm. Viagens: 8.0\n",
      "Tipo 2 Rota 3 -> Quant. Alocada: 2.0, Núm. Viagens: 4.0\n"
     ]
    }
   ],
   "source": [
    "for i in range(tipos):\n",
    "    for j in range(rotas):\n",
    "        print(f\"Tipo {i} Rota {j} -> Quant. Alocada: {x[i][j].x}, Núm. Viagens: {y[i][j].x}\")\n"
   ]
  },
  {
   "cell_type": "code",
   "execution_count": null,
   "metadata": {},
   "outputs": [],
   "source": []
  }
 ],
 "metadata": {
  "kernelspec": {
   "display_name": "Python 3 (ipykernel)",
   "language": "python",
   "name": "python3"
  },
  "language_info": {
   "codemirror_mode": {
    "name": "ipython",
    "version": 3
   },
   "file_extension": ".py",
   "mimetype": "text/x-python",
   "name": "python",
   "nbconvert_exporter": "python",
   "pygments_lexer": "ipython3",
   "version": "3.11.4"
  }
 },
 "nbformat": 4,
 "nbformat_minor": 4
}
